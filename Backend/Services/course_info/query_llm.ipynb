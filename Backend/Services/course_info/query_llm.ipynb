{
 "cells": [
  {
   "cell_type": "code",
   "execution_count": 1,
   "metadata": {},
   "outputs": [],
   "source": [
    "from langchain_together import ChatTogether\n",
    "from langchain_core.prompts import ChatPromptTemplate, MessagesPlaceholder\n",
    "from course_model import HIGH_LEVEL_FIELDS\n",
    "import json\n",
    "from process_pdf import process_pdf\n",
    "from langchain_core.rate_limiters import InMemoryRateLimiter"
   ]
  },
  {
   "cell_type": "code",
   "execution_count": 2,
   "metadata": {},
   "outputs": [],
   "source": [
    "rate_limiter = InMemoryRateLimiter(\n",
    "    requests_per_second=0.1,  # request once every 10 seconds (limit for togetherai free llama model)\n",
    "    check_every_n_seconds=0.1,  # Wake up every 100 ms to check whether allowed to make a request,\n",
    "    max_bucket_size=10,  # Controls the maximum burst size.\n",
    ")\n",
    "\n",
    "llm = ChatTogether(\n",
    "    # model=\"meta-llama/Llama-3-70b-chat-hf\",\n",
    "    model=\"meta-llama/Llama-3.3-70B-Instruct-Turbo-Free\",\n",
    "    temperature=0,\n",
    "    max_tokens=1000,\n",
    "    timeout=None,\n",
    "    max_retries=2,\n",
    "    rate_limiter=rate_limiter,\n",
    ")\n",
    "\n",
    "prompt_template = ChatPromptTemplate.from_messages(\n",
    "    [\n",
    "        (\n",
    "            \"human\",\n",
    "            \"You are an expert course-data scraping algorithm. \"\n",
    "            \"Only extract relevant information from the text. \"\n",
    "            \"Only return information present in the text. \"\n",
    "            \"If you do not know or are unsure of the value of an attribute asked to extract, \"\n",
    "            \"return null for the attribute's value.\"\n",
    "            \"Here is the course syllabus in markdown format: \"\n",
    "            \"{course_syllabus}\"\n",
    "            \"Here is some miscellaneous information about the course website: \"\n",
    "            \"{misc_info}\"\n",
    "            \"Here is the contents of the course website in markdown format: \"\n",
    "            \"{course_website}\",\n",
    "        )\n",
    "    ]\n",
    ")"
   ]
  },
  {
   "cell_type": "code",
   "execution_count": 3,
   "metadata": {},
   "outputs": [],
   "source": [
    "with open(\"debug_files/info.json\") as f:\n",
    "    misc_info = str(json.load(f))\n",
    "with open(\"debug_files/wiki_page.md\") as f:\n",
    "    course_website = f.read()\n",
    "course_syllabus = process_pdf(\"debug_files/20251_CSC301H5S_LEC0101_syllabus.pdf\")\n",
    "\n",
    "prompt = prompt_template.invoke({\"misc_info\": misc_info, \"course_website\": course_website, \"course_syllabus\": course_syllabus})"
   ]
  },
  {
   "cell_type": "code",
   "execution_count": 4,
   "metadata": {},
   "outputs": [
    {
     "name": "stdout",
     "output_type": "stream",
     "text": [
      "<class 'course_model.CourseInformation'> id='CSC301H5S' title='Introduction to Software Engineering' course_url='https://q.utoronto.ca/courses/373305' term='Winter 2025' communication=Communication(platforms=[Platform(name='Piazza', url=AnyUrl('https://piazza.com/class/m5gs2ezw9d15rp/')), Platform(name='MarkUs', url=AnyUrl('https://markus0.teach.cs.toronto.edu/utm-2025-01'))]) policies=Policy(academic_integrity='The University of Toronto’s Code of Behaviour on Academic Matters outlines behaviours that constitute academic dishonesty and the process for addressing academic offences.', late_submission='All deadlines are strict. Exceptions may be made at the discretion of the instructor for documented reasons.', ai_usage='Students may use artificial intelligence tools, including generative AI, in this course as a learning aid or to help produce assignments and project deliverables except for the following two components: presentation component, term test component.', remark_requests='Remark request MUST be made within one week after the mark is made available. No re-mark request will be accepted after one week.') textbooks=None\n",
      "<class 'course_model.OfficeHours'> staff=[StaffItem(name='Andi Bergen', role='Instructor', schedule=[StaffScheduleItem(day='Monday', time='1-2:30pm'), StaffScheduleItem(day='Tuesday', time='9-10am; 3-4pm')])]\n",
      "<class 'course_model.LectureSections'> lecture_sections=[LectureSection(identifier='LEC0101', times=[SectionTime(start_time=Time(hour=11, minute=0), end_time=Time(hour=13, minute=0), day_of_week=1, location='MN 1170')])]\n",
      "<class 'course_model.LabSections'> None\n",
      "<class 'course_model.Labs'> start_week=2 submission=Submission(platform='MarkUs', policy='No late submissions') schedule=[LabScheduleItem(week=2, date='Jan 13', topic='Gitflow', notes=None, resources=[Resource(name='CSC301Lab1 (2).pdf', link=AnyUrl('https://q.utoronto.ca/courses/373305/files/35742820?wrap=1'))]), LabScheduleItem(week=3, date='Jan 20', topic='REST', notes=None, resources=[Resource(name='l2Materials-1.zip', link=AnyUrl('https://q.utoronto.ca/courses/373305/files/35826569?wrap=1')), Resource(name='Lab 2 (1)-1.pdf', link=AnyUrl('https://q.utoronto.ca/courses/373305/files/35826570?wrap=1'))]), LabScheduleItem(week=4, date='Jan 27', topic='Neo4J', notes='A1', resources=[Resource(name='L3-1.zip', link=AnyUrl('https://q.utoronto.ca/courses/373305/files/36236769?wrap=1'))]), LabScheduleItem(week=5, date='Feb 3', topic='SPRINT 1 DEMO', notes=None, resources=None), LabScheduleItem(week=6, date='Feb 10', topic='Docker', notes=None, resources=[Resource(name='tut6-3.zip', link=AnyUrl('https://q.utoronto.ca/courses/373305/files/36283531?wrap=1'))]), LabScheduleItem(week=7, date='Feb 24', topic='SPRINT 2 DEMO', notes='A2 (extended to March 6th component A)', resources=None), LabScheduleItem(week=8, date='Mar 3', topic='React', notes=None, resources=None), LabScheduleItem(week=9, date='Mar 10', topic='SQL/Mongo', notes=None, resources=None), LabScheduleItem(week=10, date='Mar 17', topic='Microservices', notes=None, resources=None), LabScheduleItem(week=11, date='Mar 24', topic='SPRINT 3 DEMO', notes='FINAL PROJECT', resources=None), LabScheduleItem(week=12, date=None, topic='Final Project Demo', notes=None, resources=None)]\n",
      "<class 'course_model.Lectures'> lectures=[Lecture(number=1, topic='Introduction + Intro to Tech Stacks', resources=[Resource(name='Week1CSC301-3.pdf', link=AnyUrl('https://q.utoronto.ca/courses/373305/files/35566746?wrap=1'))]), Lecture(number=2, topic='Git/GitHub', resources=[Resource(name='Main.java', link=AnyUrl('https://q.utoronto.ca/courses/373305/files/35662146?wrap=1')), Resource(name='genAI_1.txt', link=AnyUrl('https://q.utoronto.ca/courses/373305/files/35662149?wrap=1')), Resource(name='genAI_2.txt', link=AnyUrl('https://q.utoronto.ca/courses/373305/files/35662150?wrap=1')), Resource(name='p3.py', link=AnyUrl('https://q.utoronto.ca/courses/373305/files/35662162?wrap=1')), Resource(name='Portfolio-2.pdf', link=AnyUrl('https://q.utoronto.ca/courses/373305/files/35662193?wrap=1'))]), Lecture(number=3, topic='REST, Micro-services, Product Management I', resources=[Resource(name='CSC301Week3.pdf', link=AnyUrl('https://q.utoronto.ca/courses/373305/files/35826574?wrap=1'))]), Lecture(number=4, topic='Product Management II', resources=[Resource(name='CSC301Week4_2024.pdf', link=AnyUrl('https://q.utoronto.ca/courses/373305/files/35999172?wrap=1'))]), Lecture(number=5, topic='Agile Methodologies', resources=[Resource(name='CSC301Week5.pdf', link=AnyUrl('https://q.utoronto.ca/courses/373305/files/36134460?wrap=1'))]), Lecture(number=6, topic='SQL Injections, XSS attacks, software performance profiling, finishing up OO and week 5 material', resources=[Resource(name='L6CSC301Notes.zip', link=AnyUrl('https://q.utoronto.ca/courses/373305/files/36236763?wrap=1'))]), Lecture(number=7, topic='Teamwork, APIs + Automation', resources=[]), Lecture(number=8, topic='Code Craftsmanship & Professionalism', resources=[]), Lecture(number=9, topic='Automated Testing and test plans; Security Reviews; fault tolerance (chaos monkey)', resources=[]), Lecture(number=10, topic='Microservices', resources=[]), Lecture(number=11, topic='Project demos, TERM TEST', resources=[]), Lecture(number=12, topic='Scalability, Accessibility & Privacy', resources=[])]\n",
      "<class 'course_model.Assignments'> assignments=[Assignment(type='Class Participation', name='Tutorial Participation', due_date='On-going', weight=0.05, team_size=None, description=None, resources=None), Assignment(type='Assignment', name='Assignment1', due_date='2025-01-30', weight=0.15, team_size='1-2', description=None, resources=None), Assignment(type='Assignment', name='Assignment2', due_date='2025-02-27', weight=0.15, team_size='1-5', description=None, resources=None), Assignment(type='Other', name='CSC301 project component', due_date='On-going', weight=0.5, team_size='5-7', description='Must be done in teams of 5-7 students', resources=None), Assignment(type='Term Test', name='Term Test', due_date='2025-03-25', weight=0.15, team_size=None, description=None, resources=None)]\n",
      "<class 'course_model.Tests'> None\n"
     ]
    }
   ],
   "source": [
    "general_course_info = {}\n",
    "\n",
    "for field in HIGH_LEVEL_FIELDS:\n",
    "    structured_llm = llm.with_structured_output(schema=field)\n",
    "    info = structured_llm.invoke(prompt)\n",
    "    general_course_info[field.__name__] = info\n",
    "    print(field, info)"
   ]
  },
  {
   "cell_type": "code",
   "execution_count": 5,
   "metadata": {},
   "outputs": [
    {
     "data": {
      "text/plain": [
       "Labs(start_week=2, submission=Submission(platform='MarkUs', policy='No late submissions'), schedule=[LabScheduleItem(week=2, date='Jan 13', topic='Gitflow', notes=None, resources=[Resource(name='CSC301Lab1 (2).pdf', link=AnyUrl('https://q.utoronto.ca/courses/373305/files/35742820?wrap=1'))]), LabScheduleItem(week=3, date='Jan 20', topic='REST', notes=None, resources=[Resource(name='l2Materials-1.zip', link=AnyUrl('https://q.utoronto.ca/courses/373305/files/35826569?wrap=1')), Resource(name='Lab 2 (1)-1.pdf', link=AnyUrl('https://q.utoronto.ca/courses/373305/files/35826570?wrap=1'))]), LabScheduleItem(week=4, date='Jan 27', topic='Neo4J', notes='A1', resources=[Resource(name='L3-1.zip', link=AnyUrl('https://q.utoronto.ca/courses/373305/files/36236769?wrap=1'))]), LabScheduleItem(week=5, date='Feb 3', topic='SPRINT 1 DEMO', notes=None, resources=None), LabScheduleItem(week=6, date='Feb 10', topic='Docker', notes=None, resources=[Resource(name='tut6-3.zip', link=AnyUrl('https://q.utoronto.ca/courses/373305/files/36283531?wrap=1'))]), LabScheduleItem(week=7, date='Feb 24', topic='SPRINT 2 DEMO', notes='A2 (extended to March 6th component A)', resources=None), LabScheduleItem(week=8, date='Mar 3', topic='React', notes=None, resources=None), LabScheduleItem(week=9, date='Mar 10', topic='SQL/Mongo', notes=None, resources=None), LabScheduleItem(week=10, date='Mar 17', topic='Microservices', notes=None, resources=None), LabScheduleItem(week=11, date='Mar 24', topic='SPRINT 3 DEMO', notes='FINAL PROJECT', resources=None), LabScheduleItem(week=12, date=None, topic='Final Project Demo', notes=None, resources=None)])"
      ]
     },
     "execution_count": 5,
     "metadata": {},
     "output_type": "execute_result"
    }
   ],
   "source": [
    "general_course_info['Labs']"
   ]
  },
  {
   "cell_type": "code",
   "execution_count": 7,
   "metadata": {},
   "outputs": [
    {
     "data": {
      "text/plain": [
       "{'raw': AIMessage(content='<function=Tests>[{\"name\": \"Midterm 1\", \"test_date\": \"2025-01-30\", \"time\": \"14:00-16:00\", \"location\": \"MN 1170\", \"duration\": \"2 hours\", \"format\": \"Closed book\", \"coverage\": \"Lectures 1-5\", \"weight\": 15, \"resources\": [{\"name\": \"Practice test\", \"link\": \"https://q.utoronto.ca/courses/373305/files/35742820\"}]}, {\"name\": \"Final Exam\", \"test_date\": \"2025-03-25\", \"time\": \"14:00-16:00\", \"location\": \"MN 1170\", \"duration\": \"2 hours\", \"format\": \"Closed book\", \"coverage\": \"All lectures\", \"weight\": 50, \"resources\": [{\"name\": \"Practice test\", \"link\": \"https://q.utoronto.ca/courses/373305/files/35742820\"}]}]</function>', additional_kwargs={'refusal': None}, response_metadata={'token_usage': {'completion_tokens': 216, 'prompt_tokens': 6529, 'total_tokens': 6745, 'completion_tokens_details': None, 'prompt_tokens_details': None}, 'model_name': 'meta-llama/Llama-3.3-70B-Instruct-Turbo-Free', 'system_fingerprint': None, 'finish_reason': 'stop', 'logprobs': None}, id='run-60ee4dc7-e853-44ad-aee8-d5fe43b99380-0', usage_metadata={'input_tokens': 6529, 'output_tokens': 216, 'total_tokens': 6745, 'input_token_details': {}, 'output_token_details': {}}),\n",
       " 'parsed': None,\n",
       " 'parsing_error': None}"
      ]
     },
     "execution_count": 7,
     "metadata": {},
     "output_type": "execute_result"
    }
   ],
   "source": [
    "prompt = prompt_template.invoke({\"misc_info\": misc_info, \"course_website\": course_website, \"course_syllabus\": course_syllabus})\n",
    "structured_llm = llm.with_structured_output(schema=HIGH_LEVEL_FIELDS[6], include_raw=True)\n",
    "info = structured_llm.invoke(prompt)\n",
    "# general_course_info[field.__name__] = info\n",
    "info"
   ]
  },
  {
   "cell_type": "code",
   "execution_count": 6,
   "metadata": {},
   "outputs": [],
   "source": [
    "info"
   ]
  },
  {
   "cell_type": "code",
   "execution_count": 6,
   "metadata": {},
   "outputs": [
    {
     "data": {
      "text/plain": [
       "{'CourseInformation': CourseInformation(id='373305', title='Introduction to Software Engineering', course_url='https://q.utoronto.ca/courses/373305', term='Winter 2025', communication=Communication(platforms=[Platform(name='Piazza', url=AnyUrl('https://piazza.com/class/m5gs2ezw9d15rp/')), Platform(name='Markus', url=AnyUrl('https://markus0.teach.cs.toronto.edu/utm-2025-01'))]), policies=Policy(academic_integrity='Academic integrity is essential to the pursuit of learning and scholarship in a university, and to ensuring that a degree from the University of Toronto Mississauga is a strong signal of each student’s individual academic achievement.', late_submission='All deadlines are strict. Exceptions may be made at the discretion of the instructor for documented reasons.', ai_usage='Students may use artificial intelligence tools, including generative AI, in this course as a learning aid or to help produce assignments and project deliverables except for the following two components: presentation component, term test component.', remark_requests='Remark request MUST be made within one week after the mark is made available. No re-mark request will be accepted after one week.'), textbooks=None),\n",
       " 'LectureSections': LectureSections(lecture_sections=[LectureSection(identifier='Lec0101', time='Tue, 11:00 AM - 01:00 PM', location='MN 1170'), LectureSection(identifier='Lec0103', time='Tue, 01:00 PM - 03:00 PM', location=None)]),\n",
       " 'Labs': Labs(labs=None),\n",
       " 'OfficeHours': OfficeHours(staff=[StaffItem(name='Andi Bergen', role='Instructor', schedule=[StaffScheduleItem(day='Monday', time='1-2:30pm'), StaffScheduleItem(day='Tuesday', time='9-10am and 3-4pm')])]),\n",
       " 'Lectures': Lectures(lectures=[Lecture(number=1.0, topic='Introduction + Intro to Tech Stacks', resources=[Resource(name='Week1CSC301-3.pdf', link=AnyUrl('https://q.utoronto.ca/courses/373305/files/35566746?wrap=1'))]), Lecture(number=2.0, topic='Git/GitHub', resources=[Resource(name='Main.java', link=AnyUrl('https://q.utoronto.ca/courses/373305/files/35662146?wrap=1')), Resource(name='genAI_1.txt', link=AnyUrl('https://q.utoronto.ca/courses/373305/files/35662149?wrap=1')), Resource(name='genAI_2.txt', link=AnyUrl('https://q.utoronto.ca/courses/373305/files/35662150?wrap=1')), Resource(name='p3.py', link=AnyUrl('https://q.utoronto.ca/courses/373305/files/35662162?wrap=1')), Resource(name='Portfolio-2.pdf', link=AnyUrl('https://q.utoronto.ca/courses/373305/files/35662193?wrap=1'))]), Lecture(number=3.0, topic='REST, Micro-services, Product Management I', resources=[Resource(name='CSC301Week3.pdf', link=AnyUrl('https://q.utoronto.ca/courses/373305/files/35826574?wrap=1'))]), Lecture(number=4.0, topic='Product Management II', resources=[Resource(name='CSC301Week4_2024.pdf', link=AnyUrl('https://q.utoronto.ca/courses/373305/files/35999172?wrap=1'))]), Lecture(number=5.0, topic='Agile Methodologies', resources=[Resource(name='CSC301Week5.pdf', link=AnyUrl('https://q.utoronto.ca/courses/373305/files/36134460?wrap=1'))]), Lecture(number=6.0, topic='SQL Injections, XSS attacks, software performance profiling, finishing up OO and week 5 material', resources=[Resource(name='L6CSC301Notes.zip', link=AnyUrl('https://q.utoronto.ca/courses/373305/files/36236763?wrap=1'))]), Lecture(number=7.0, topic='Teamwork, APIs + Automation', resources=None), Lecture(number=8.0, topic='Code Craftsmanship & Professionalism', resources=None), Lecture(number=9.0, topic='Automated Testing and test plans; Security Reviews; fault tolerance (chaos monkey)', resources=None), Lecture(number=10.0, topic='Microservices', resources=None), Lecture(number=11.0, topic='Project demos, TERM TEST', resources=None), Lecture(number=12.0, topic='Scalability, Accessibility & Privacy', resources=None)]),\n",
       " 'Assignments': None,\n",
       " 'Tests': Tests(tests=None)}"
      ]
     },
     "execution_count": 6,
     "metadata": {},
     "output_type": "execute_result"
    }
   ],
   "source": [
    "general_course_info"
   ]
  }
 ],
 "metadata": {
  "kernelspec": {
   "display_name": ".venv",
   "language": "python",
   "name": "python3"
  },
  "language_info": {
   "codemirror_mode": {
    "name": "ipython",
    "version": 3
   },
   "file_extension": ".py",
   "mimetype": "text/x-python",
   "name": "python",
   "nbconvert_exporter": "python",
   "pygments_lexer": "ipython3",
   "version": "3.11.4"
  }
 },
 "nbformat": 4,
 "nbformat_minor": 2
}
